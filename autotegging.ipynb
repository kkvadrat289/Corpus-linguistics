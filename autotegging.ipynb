{
 "cells": [
  {
   "cell_type": "code",
   "execution_count": 7,
   "metadata": {},
   "outputs": [],
   "source": [
    "import numpy as np\n",
    "from pandas import read_csv\n",
    "posts_data = read_csv(\"./risk/posts_data.csv\")"
   ]
  },
  {
   "cell_type": "code",
   "execution_count": 8,
   "metadata": {},
   "outputs": [],
   "source": [
    "from nltk.corpus import stopwords\n",
    "badwords = [\n",
    "u'я', u'а', u'да', u'но', u'тебе', u'мне', u'ты', u'и', u'у', u'на', u'ща', u'ага',\n",
    "u'так', u'там', u'какие', u'который', u'какая', u'туда', u'давай', u'короче', u'кажется', u'вообще',\n",
    "u'ну', u'не', u'чет', u'неа', u'свои', u'наше', u'хотя', u'такое', u'например', u'кароч', u'как-то',\n",
    "u'нам', u'хм', u'всем', u'нет', u'да', u'оно', u'своем', u'про', u'вы', u'м', u'тд',\n",
    "u'вся', u'кто-то', u'что-то', u'вам', u'это', u'эта', u'эти', u'этот', u'прям', u'либо', u'как', u'мы',\n",
    "u'просто', u'блин', u'очень', u'самые', u'твоем', u'ваша', u'кстати', u'вроде', u'типа', u'пока', u'ок'\n",
    "] + stopwords.words('russian')"
   ]
  },
  {
   "cell_type": "code",
   "execution_count": 87,
   "metadata": {},
   "outputs": [],
   "source": [
    "def files(filenames):\n",
    "    for name in filenames:\n",
    "        with open(path + name, 'r', encoding='utf-8') as f:\n",
    "            yield f.read()"
   ]
  },
  {
   "cell_type": "code",
   "execution_count": 88,
   "metadata": {},
   "outputs": [],
   "source": [
    "# избавляемся от текстов без тегов активности\n",
    "from math import isnan\n",
    "y_dict = {k: v for k, v in zip(posts_data['ID'], posts_data['tag_activity']) if isinstance(v, str) and k in filenames}"
   ]
  },
  {
   "cell_type": "code",
   "execution_count": 89,
   "metadata": {},
   "outputs": [
    {
     "name": "stdout",
     "output_type": "stream",
     "text": [
      "30502\n"
     ]
    }
   ],
   "source": [
    "print(len(y_dict))"
   ]
  },
  {
   "cell_type": "code",
   "execution_count": 110,
   "metadata": {},
   "outputs": [
    {
     "name": "stdout",
     "output_type": "stream",
     "text": [
      "23751\n"
     ]
    }
   ],
   "source": [
    "# не учитываем тексты длиной менее 100 символов, так как с большой вероятностью они не информативны\n",
    "# и представляют собой подписи к фото/видео\n",
    "names = [name for name in y_dict.keys() if len(open(path + name, 'r', encoding='utf-8').read()) > 100]\n",
    "print(len(names))"
   ]
  },
  {
   "cell_type": "markdown",
   "metadata": {},
   "source": [
    "#### TF-IDF + Logistic regression"
   ]
  },
  {
   "cell_type": "code",
   "execution_count": 106,
   "metadata": {},
   "outputs": [
    {
     "data": {
      "text/plain": [
       "TfidfVectorizer(analyzer='word', binary=False, decode_error='strict',\n",
       "        dtype=<class 'numpy.int64'>, encoding='utf-8', input='content',\n",
       "        lowercase=True, max_df=1.0, max_features=20000, min_df=1,\n",
       "        ngram_range=(1, 2), norm='l2', preprocessor=None, smooth_idf=True,\n",
       "        stop_words=['я', 'а', 'да', 'но', 'тебе', 'мне', 'ты', 'и', 'у', 'на', 'ща', 'ага', 'так', 'там', 'какие', 'который', 'какая', 'туда', 'давай', 'короче', 'кажется', 'вообще', 'ну', 'не', 'чет', 'неа', 'свои', 'наше', 'хотя', 'такое', 'например', 'кароч', 'как-то', 'нам', 'хм', 'всем', 'нет', 'да', '...гда', 'лучше', 'чуть', 'том', 'нельзя', 'такой', 'им', 'более', 'всегда', 'конечно', 'всю', 'между'],\n",
       "        strip_accents=None, sublinear_tf=False,\n",
       "        token_pattern='(?u)\\\\b\\\\w\\\\w+\\\\b', tokenizer=None, use_idf=True,\n",
       "        vocabulary=None)"
      ]
     },
     "execution_count": 106,
     "metadata": {},
     "output_type": "execute_result"
    }
   ],
   "source": [
    "from sklearn.feature_extraction.text import TfidfVectorizer\n",
    "vectorizer = TfidfVectorizer(ngram_range=(1,2), analyzer='word', max_features=20000, stop_words=badwords)\n",
    "vectorizer.fit(files(names))"
   ]
  },
  {
   "cell_type": "code",
   "execution_count": 107,
   "metadata": {},
   "outputs": [],
   "source": [
    "X = vectorizer.transform(files(names))\n",
    "y = [y_dict[k] for k in names]"
   ]
  },
  {
   "cell_type": "code",
   "execution_count": 108,
   "metadata": {},
   "outputs": [],
   "source": [
    "from sklearn.linear_model import LogisticRegression\n",
    "from sklearn.model_selection import train_test_split\n",
    "\n",
    "logreg = LogisticRegression(solver='newton-cg',multi_class='multinomial')\n",
    "X_train, X_test, y_train, y_test = train_test_split(X, y, test_size=0.2)\n",
    "\n",
    "model = logreg.fit(X_train, y_train)"
   ]
  },
  {
   "cell_type": "code",
   "execution_count": 36,
   "metadata": {},
   "outputs": [
    {
     "data": {
      "text/plain": [
       "0.7000631446011366"
      ]
     },
     "execution_count": 36,
     "metadata": {},
     "output_type": "execute_result"
    }
   ],
   "source": [
    "model.score(X_test, y_test)"
   ]
  },
  {
   "cell_type": "code",
   "execution_count": 73,
   "metadata": {},
   "outputs": [
    {
     "name": "stdout",
     "output_type": "stream",
     "text": [
      "Вело \t 2 43\n",
      "Путешествия \t 162 278\n",
      "Туризм \t 0 76\n",
      "Бэккантри/Фрирайд \t 196 244\n",
      "Горный туризм \t 175 293\n",
      "Ски-тур \t 29 82\n",
      "Горные лыжи/Сноуборд \t 78 168\n",
      "BASE \t 5 33\n",
      "Скайраннинг \t 54 82\n",
      "Спелеология \t 1 37\n",
      "Мультигонки \t 69 116\n",
      "Слэклайн \t 0 3\n",
      "Скалолазание \t 565 620\n",
      "Ropejumping \t 0 6\n",
      "Ледолазание/drytoolling \t 62 128\n",
      "Альпинизм \t 3248 2304\n",
      "Воздух \t 51 103\n",
      "Вода \t 50 119\n",
      "Снегоступинг \t 4 16\n"
     ]
    }
   ],
   "source": [
    "activities = set(y_test)\n",
    "preds = model.predict(X_test)\n",
    "for activity in activities:\n",
    "    print(activity, '\\t', sum([x == activity for x in preds]), sum([x == activity for x in y_test]))"
   ]
  },
  {
   "cell_type": "code",
   "execution_count": 82,
   "metadata": {},
   "outputs": [],
   "source": [
    "def test_text(filename, vectorizer, model, data):\n",
    "    with open(path + filename, 'r', encoding='utf-8') as f:\n",
    "        transformed = vectorizer.transform([f.read()])\n",
    "        prediction = model.predict(transformed)\n",
    "        print(filename, prediction, data[data['ID']==filename])\n",
    "        print(text)"
   ]
  }
 ],
 "metadata": {
  "kernelspec": {
   "display_name": "Python 3",
   "language": "python",
   "name": "python3"
  },
  "language_info": {
   "codemirror_mode": {
    "name": "ipython",
    "version": 3
   },
   "file_extension": ".py",
   "mimetype": "text/x-python",
   "name": "python",
   "nbconvert_exporter": "python",
   "pygments_lexer": "ipython3",
   "version": "3.6.5"
  }
 },
 "nbformat": 4,
 "nbformat_minor": 2
}
