{
 "cells": [
  {
   "cell_type": "code",
   "execution_count": 1,
   "metadata": {},
   "outputs": [],
   "source": [
    "import numpy as np\n",
    "from pandas import read_csv\n",
    "posts_data = read_csv(\"./risk/posts_data.csv\")"
   ]
  },
  {
   "cell_type": "code",
   "execution_count": 2,
   "metadata": {},
   "outputs": [],
   "source": [
    "from nltk.corpus import stopwords\n",
    "badwords = [\n",
    "u'я', u'а', u'да', u'но', u'тебе', u'мне', u'ты', u'и', u'у', u'на', u'ща', u'ага',\n",
    "u'так', u'там', u'какие', u'который', u'какая', u'туда', u'давай', u'короче', u'кажется', u'вообще',\n",
    "u'ну', u'не', u'чет', u'неа', u'свои', u'наше', u'хотя', u'такое', u'например', u'кароч', u'как-то',\n",
    "u'нам', u'хм', u'всем', u'нет', u'да', u'оно', u'своем', u'про', u'вы', u'м', u'тд',\n",
    "u'вся', u'кто-то', u'что-то', u'вам', u'это', u'эта', u'эти', u'этот', u'прям', u'либо', u'как', u'мы',\n",
    "u'просто', u'блин', u'очень', u'самые', u'твоем', u'ваша', u'кстати', u'вроде', u'типа', u'пока', u'ок'\n",
    "] + stopwords.words('russian')"
   ]
  },
  {
   "cell_type": "code",
   "execution_count": 3,
   "metadata": {},
   "outputs": [],
   "source": [
    "def files(filenames):\n",
    "    for name in filenames:\n",
    "        with open(path + name, 'r', encoding='utf-8') as f:\n",
    "            yield f.read()"
   ]
  },
  {
   "cell_type": "code",
   "execution_count": 4,
   "metadata": {},
   "outputs": [],
   "source": [
    "from os import listdir\n",
    "path = '../posts_utf8/'\n",
    "filenames = listdir(path)"
   ]
  },
  {
   "cell_type": "code",
   "execution_count": 5,
   "metadata": {},
   "outputs": [],
   "source": [
    "# избавляемся от текстов без тегов активности\n",
    "from math import isnan\n",
    "y_dict = {k: v for k, v in zip(posts_data['ID'], posts_data['tag_activity']) if isinstance(v, str) and k in filenames}"
   ]
  },
  {
   "cell_type": "code",
   "execution_count": 6,
   "metadata": {},
   "outputs": [
    {
     "name": "stdout",
     "output_type": "stream",
     "text": [
      "30502\n"
     ]
    }
   ],
   "source": [
    "print(len(y_dict))"
   ]
  },
  {
   "cell_type": "code",
   "execution_count": 7,
   "metadata": {},
   "outputs": [
    {
     "name": "stdout",
     "output_type": "stream",
     "text": [
      "23751\n"
     ]
    }
   ],
   "source": [
    "# не учитываем тексты длиной менее 100 символов, так как с большой вероятностью они не информативны\n",
    "# и представляют собой подписи к фото/видео\n",
    "names = [name for name in y_dict.keys() if len(open(path + name, 'r', encoding='utf-8').read()) > 100]\n",
    "print(len(names))"
   ]
  },
  {
   "cell_type": "markdown",
   "metadata": {},
   "source": [
    "#### TF-IDF + Logistic regression"
   ]
  },
  {
   "cell_type": "code",
   "execution_count": 8,
   "metadata": {},
   "outputs": [
    {
     "data": {
      "text/plain": [
       "TfidfVectorizer(analyzer='word', binary=False, decode_error='strict',\n",
       "        dtype=<class 'numpy.int64'>, encoding='utf-8', input='content',\n",
       "        lowercase=True, max_df=1.0, max_features=20000, min_df=1,\n",
       "        ngram_range=(1, 2), norm='l2', preprocessor=None, smooth_idf=True,\n",
       "        stop_words=['я', 'а', 'да', 'но', 'тебе', 'мне', 'ты', 'и', 'у', 'на', 'ща', 'ага', 'так', 'там', 'какие', 'который', 'какая', 'туда', 'давай', 'короче', 'кажется', 'вообще', 'ну', 'не', 'чет', 'неа', 'свои', 'наше', 'хотя', 'такое', 'например', 'кароч', 'как-то', 'нам', 'хм', 'всем', 'нет', 'да', '...гда', 'лучше', 'чуть', 'том', 'нельзя', 'такой', 'им', 'более', 'всегда', 'конечно', 'всю', 'между'],\n",
       "        strip_accents=None, sublinear_tf=False,\n",
       "        token_pattern='(?u)\\\\b\\\\w\\\\w+\\\\b', tokenizer=None, use_idf=True,\n",
       "        vocabulary=None)"
      ]
     },
     "execution_count": 8,
     "metadata": {},
     "output_type": "execute_result"
    }
   ],
   "source": [
    "from sklearn.feature_extraction.text import TfidfVectorizer\n",
    "vectorizer = TfidfVectorizer(ngram_range=(1,2), analyzer='word', max_features=20000, stop_words=badwords)\n",
    "vectorizer.fit(files(names))"
   ]
  },
  {
   "cell_type": "code",
   "execution_count": 9,
   "metadata": {},
   "outputs": [],
   "source": [
    "X = vectorizer.transform(files(names))\n",
    "y = [y_dict[k] for k in names]"
   ]
  },
  {
   "cell_type": "code",
   "execution_count": 10,
   "metadata": {},
   "outputs": [],
   "source": [
    "from sklearn.linear_model import LogisticRegression\n",
    "from sklearn.model_selection import train_test_split\n",
    "\n",
    "logreg = LogisticRegression(solver='newton-cg',multi_class='multinomial')\n",
    "X_train, X_test, y_train, y_test = train_test_split(X, y, test_size=0.2)\n",
    "\n",
    "model = logreg.fit(X_train, y_train)"
   ]
  },
  {
   "cell_type": "code",
   "execution_count": 11,
   "metadata": {},
   "outputs": [
    {
     "data": {
      "text/plain": [
       "0.7046937486844875"
      ]
     },
     "execution_count": 11,
     "metadata": {},
     "output_type": "execute_result"
    }
   ],
   "source": [
    "model.score(X_test, y_test)"
   ]
  },
  {
   "cell_type": "code",
   "execution_count": 14,
   "metadata": {},
   "outputs": [
    {
     "data": {
      "text/plain": [
       "19"
      ]
     },
     "execution_count": 14,
     "metadata": {},
     "output_type": "execute_result"
    }
   ],
   "source": [
    "len(activities)"
   ]
  },
  {
   "cell_type": "code",
   "execution_count": 12,
   "metadata": {},
   "outputs": [
    {
     "name": "stdout",
     "output_type": "stream",
     "text": [
      "Спелеология \t 5 23\n",
      "Ски-тур \t 31 87\n",
      "Мультигонки \t 93 130\n",
      "Вело \t 6 61\n",
      "Снегоступинг \t 2 16\n",
      "Вода \t 43 98\n",
      "Путешествия \t 175 271\n",
      "Слэклайн \t 0 1\n",
      "Бэккантри/Фрирайд \t 172 219\n",
      "Альпинизм \t 3199 2253\n",
      "Скайраннинг \t 36 77\n",
      "Воздух \t 58 119\n",
      "Туризм \t 1 72\n",
      "Ледолазание/drytoolling \t 73 123\n",
      "Скалолазание \t 621 719\n",
      "BASE \t 2 32\n",
      "Горный туризм \t 158 288\n",
      "Горные лыжи/Сноуборд \t 76 152\n",
      "Ropejumping \t 0 10\n"
     ]
    }
   ],
   "source": [
    "activities = set(y_test)\n",
    "preds = model.predict(X_test)\n",
    "for activity in activities:\n",
    "    print(activity, '\\t', sum([x == activity for x in preds]), sum([x == activity for x in y_test]))"
   ]
  },
  {
   "cell_type": "code",
   "execution_count": 17,
   "metadata": {},
   "outputs": [
    {
     "name": "stdout",
     "output_type": "stream",
     "text": [
      "                         precision    recall  f1-score   support\n",
      "\n",
      "                   BASE       0.00      0.00      0.00        32\n",
      "            Ropejumping       0.00      0.00      0.00        10\n",
      "              Альпинизм       0.68      0.96      0.79      2253\n",
      "      Бэккантри/Фрирайд       0.72      0.56      0.63       219\n",
      "                   Вело       0.83      0.08      0.15        61\n",
      "                   Вода       0.72      0.32      0.44        98\n",
      "                 Воздух       0.83      0.40      0.54       119\n",
      "   Горные лыжи/Сноуборд       0.62      0.31      0.41       152\n",
      "          Горный туризм       0.59      0.32      0.42       288\n",
      "Ледолазание/drytoolling       0.79      0.47      0.59       123\n",
      "            Мультигонки       0.78      0.56      0.65       130\n",
      "            Путешествия       0.55      0.35      0.43       271\n",
      "            Скайраннинг       0.69      0.32      0.44        77\n",
      "           Скалолазание       0.90      0.77      0.83       719\n",
      "                Ски-тур       0.81      0.29      0.42        87\n",
      "               Слэклайн       0.00      0.00      0.00         1\n",
      "           Снегоступинг       0.50      0.06      0.11        16\n",
      "            Спелеология       1.00      0.22      0.36        23\n",
      "                 Туризм       1.00      0.01      0.03        72\n",
      "\n",
      "            avg / total       0.71      0.70      0.67      4751\n",
      "\n"
     ]
    },
    {
     "name": "stderr",
     "output_type": "stream",
     "text": [
      "c:\\users\\julia-win\\appdata\\local\\programs\\python\\python36\\lib\\site-packages\\sklearn\\metrics\\classification.py:1135: UndefinedMetricWarning: Precision and F-score are ill-defined and being set to 0.0 in labels with no predicted samples.\n",
      "  'precision', 'predicted', average, warn_for)\n"
     ]
    }
   ],
   "source": [
    "from sklearn.metrics import classification_report\n",
    "\n",
    "print( classification_report(y_test, preds) )"
   ]
  }
 ],
 "metadata": {
  "kernelspec": {
   "display_name": "Python 3",
   "language": "python",
   "name": "python3"
  },
  "language_info": {
   "codemirror_mode": {
    "name": "ipython",
    "version": 3
   },
   "file_extension": ".py",
   "mimetype": "text/x-python",
   "name": "python",
   "nbconvert_exporter": "python",
   "pygments_lexer": "ipython3",
   "version": "3.6.5"
  }
 },
 "nbformat": 4,
 "nbformat_minor": 2
}
