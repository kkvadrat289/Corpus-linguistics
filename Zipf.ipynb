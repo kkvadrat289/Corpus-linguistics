{
 "cells": [
  {
   "cell_type": "code",
   "execution_count": 1,
   "metadata": {},
   "outputs": [],
   "source": [
    "import numpy as np"
   ]
  },
  {
   "cell_type": "code",
   "execution_count": 2,
   "metadata": {},
   "outputs": [],
   "source": [
    "from os import listdir\n",
    "from pandas import read_csv\n",
    "\n",
    "path = '../posts_utf8/'\n",
    "filenames = listdir(path)\n",
    "posts_data = read_csv('./risk/posts_data.csv')"
   ]
  },
  {
   "cell_type": "code",
   "execution_count": 3,
   "metadata": {},
   "outputs": [],
   "source": [
    "from tqdm import tqdm\n",
    "import nltk\n",
    "import string\n",
    "\n",
    "def process_texts(filenames, analyzer):\n",
    "    normalized = np.array([])\n",
    "    print('normalizing')\n",
    "    for name in  tqdm(filenames):\n",
    "        with open(path + name, 'r', encoding='utf8') as f:\n",
    "            tokens = nltk.word_tokenize(f.read().lower(), 'russian')\n",
    "            normalized = np.append(normalized, [analyzer.normal_forms(word)[0] for word in tokens \n",
    "                           if word not in string.punctuation + '«»–``\\'\\''])\n",
    "    print('counting')\n",
    "    f_dict = {}\n",
    "    for word in tqdm(set(normalized)):\n",
    "        f_dict[word] = np.sum(normalized == word)\n",
    "    print('sorting')\n",
    "    return dict(sorted(f_dict.items(), key=lambda x: x[1], reverse=True))"
   ]
  },
  {
   "cell_type": "code",
   "execution_count": 4,
   "metadata": {},
   "outputs": [],
   "source": [
    "authors = set(posts_data['author'])"
   ]
  },
  {
   "cell_type": "code",
   "execution_count": 5,
   "metadata": {},
   "outputs": [],
   "source": [
    "authors_text_count = {author: len(posts_data[posts_data['author'] == author]) for author in authors}\n",
    "authors_text_count = dict(sorted(authors_text_count.items(), key=lambda x: x[1], reverse=True))"
   ]
  },
  {
   "cell_type": "code",
   "execution_count": 6,
   "metadata": {},
   "outputs": [
    {
     "name": "stderr",
     "output_type": "stream",
     "text": [
      "33863it [04:23, 128.72it/s]\n"
     ]
    }
   ],
   "source": [
    "author_to_text_len = {author: 0 for author in authors}\n",
    "for index, row in tqdm(posts_data.iterrows()):\n",
    "    if row['ID'] in filenames:\n",
    "        with open(path + row['ID'], 'r', encoding='utf8') as f:\n",
    "            author_to_text_len[row['author']] += len(f.read())\n",
    "author_to_text_len = dict(sorted(author_to_text_len.items(), key=lambda x: x[1], reverse=True))"
   ]
  },
  {
   "cell_type": "code",
   "execution_count": 7,
   "metadata": {},
   "outputs": [],
   "source": [
    "from sklearn.metrics import mean_squared_error\n",
    "\n",
    "def mse(Y):\n",
    "    y = Y\n",
    "    X = np.arange(1, len(Y)+1)\n",
    "    power_to_mse = dict()\n",
    "    for power in np.arange(0.1, 5, 0.2):\n",
    "        x = 1 / X ** power\n",
    "        b = (np.average(x * y) - np.average(x)*np.average(y)) / (np.average(x**2) - np.average(x)**2)\n",
    "        a = np.average(y) - np.average(x)*b\n",
    "        power_to_mse[power] = mean_squared_error(y, a + b * x)\n",
    "    power_to_mse = sorted(power_to_mse.items(), key=lambda x: x[1])\n",
    "    return a, b, power_to_mse[0][0]"
   ]
  },
  {
   "cell_type": "code",
   "execution_count": 8,
   "metadata": {},
   "outputs": [],
   "source": [
    "from pymorphy2 import MorphAnalyzer\n",
    "from matplotlib import pyplot as plt\n",
    "\n",
    "def zipf_plot(f_dict):\n",
    "    X = np.arange(1, len(f_dict) + 1)\n",
    "    Y = list(f_dict.values())\n",
    "    plt.xlim(0, 200)\n",
    "    plt.ylim(0, 1000)\n",
    "    a, b, p = mse(Y)\n",
    "    plt.plot(X,  b / X**p + a, 'r')\n",
    "    plt.plot(X, Y, 'g')\n",
    "    plt.title('автор: ' + author)\n",
    "    plt.xlabel('порядковый номер')\n",
    "    plt.ylabel('количество употреблений')\n",
    "    plt.show()\n",
    "    print('a = ', a)\n",
    "    print('b = ', b)\n",
    "    print('p = ', p)"
   ]
  },
  {
   "cell_type": "markdown",
   "metadata": {},
   "source": [
    "### Проверка закона Ципфа"
   ]
  },
  {
   "cell_type": "markdown",
   "metadata": {},
   "source": [
    "Считаем, что зависимость имеет вид $ y = a + \\frac{b}{x^p} $, где $x$ - порядковый номер слова в частотном словаре, $y$ - частота употреблнения слова"
   ]
  },
  {
   "cell_type": "code",
   "execution_count": 14,
   "metadata": {},
   "outputs": [
    {
     "name": "stdout",
     "output_type": "stream",
     "text": [
      "normalizing\n"
     ]
    },
    {
     "name": "stderr",
     "output_type": "stream",
     "text": [
      "100%|████████████████████████████████████████████████████████████████████████████████| 238/238 [00:37<00:00,  6.20it/s]\n"
     ]
    },
    {
     "name": "stdout",
     "output_type": "stream",
     "text": [
      "counting\n"
     ]
    },
    {
     "name": "stderr",
     "output_type": "stream",
     "text": [
      "100%|███████████████████████████████████████████████████████████████████████████| 10967/10967 [00:35<00:00, 306.39it/s]\n"
     ]
    },
    {
     "name": "stdout",
     "output_type": "stream",
     "text": [
      "sorting\n"
     ]
    },
    {
     "data": {
      "image/png": "[encoded data removed]",
      "text/plain": [
       "<Figure size 432x288 with 1 Axes>"
      ]
     },
     "metadata": {},
     "output_type": "display_data"
    },
    {
     "name": "stdout",
     "output_type": "stream",
     "text": [
      "a =  9.033751642236481\n",
      "b =  3769.417542956541\n",
      "p =  0.7000000000000001\n",
      "количество статей:  238\n",
      "размер словаря:  10967\n"
     ]
    }
   ],
   "source": [
    "author = list(author_to_text_len.items())[10][0]\n",
    "f_dict = process_texts(list(posts_data[posts_data['author'] == author]['ID']), MorphAnalyzer())\n",
    "zipf_plot(f_dict)\n",
    "print('количество статей: ', authors_text_count[author])\n",
    "print('размер словаря: ', len(f_dict))"
   ]
  },
  {
   "cell_type": "code",
   "execution_count": 15,
   "metadata": {},
   "outputs": [
    {
     "name": "stdout",
     "output_type": "stream",
     "text": [
      "normalizing\n"
     ]
    },
    {
     "name": "stderr",
     "output_type": "stream",
     "text": [
      "100%|██████████████████████████████████████████████████████████████████████████████████| 88/88 [00:13<00:00,  6.65it/s]\n"
     ]
    },
    {
     "name": "stdout",
     "output_type": "stream",
     "text": [
      "counting\n"
     ]
    },
    {
     "name": "stderr",
     "output_type": "stream",
     "text": [
      "100%|████████████████████████████████████████████████████████████████████████████| 6940/6940 [00:05<00:00, 1245.10it/s]\n"
     ]
    },
    {
     "name": "stdout",
     "output_type": "stream",
     "text": [
      "sorting\n"
     ]
    },
    {
     "data": {
      "image/png": "[encoded data removed]",
      "text/plain": [
       "<Figure size 432x288 with 1 Axes>"
      ]
     },
     "metadata": {},
     "output_type": "display_data"
    },
    {
     "name": "stdout",
     "output_type": "stream",
     "text": [
      "a =  4.9493850995727025\n",
      "b =  1531.1624750458386\n",
      "p =  0.9000000000000001\n",
      "количество статей:  88\n",
      "размер словаря:  6940\n"
     ]
    }
   ],
   "source": [
    "author = list(author_to_text_len.items())[50][0]\n",
    "f_dict = process_texts(list(posts_data[posts_data['author'] == author]['ID']), MorphAnalyzer())\n",
    "zipf_plot(f_dict)\n",
    "print('количество статей: ', authors_text_count[author])\n",
    "print('размер словаря: ', len(f_dict))"
   ]
  },
  {
   "cell_type": "code",
   "execution_count": 16,
   "metadata": {},
   "outputs": [
    {
     "name": "stdout",
     "output_type": "stream",
     "text": [
      "normalizing\n"
     ]
    },
    {
     "name": "stderr",
     "output_type": "stream",
     "text": [
      "100%|██████████████████████████████████████████████████████████████████████████████████| 74/74 [00:04<00:00, 15.59it/s]\n"
     ]
    },
    {
     "name": "stdout",
     "output_type": "stream",
     "text": [
      "counting\n"
     ]
    },
    {
     "name": "stderr",
     "output_type": "stream",
     "text": [
      "100%|████████████████████████████████████████████████████████████████████████████| 3167/3167 [00:00<00:00, 4750.69it/s]\n"
     ]
    },
    {
     "name": "stdout",
     "output_type": "stream",
     "text": [
      "sorting\n"
     ]
    },
    {
     "data": {
      "image/png": "[encoded data removed]",
      "text/plain": [
       "<Figure size 432x288 with 1 Axes>"
      ]
     },
     "metadata": {},
     "output_type": "display_data"
    },
    {
     "name": "stdout",
     "output_type": "stream",
     "text": [
      "a =  4.183404400491088\n",
      "b =  491.54202849062796\n",
      "p =  0.7000000000000001\n",
      "количество статей:  74\n",
      "размер словаря:  3167\n"
     ]
    }
   ],
   "source": [
    "author = list(author_to_text_len.items())[150][0]\n",
    "f_dict = process_texts(list(posts_data[posts_data['author'] == author]['ID']), MorphAnalyzer())\n",
    "zipf_plot(f_dict)\n",
    "print('количество статей: ', authors_text_count[author])\n",
    "print('размер словаря: ', len(f_dict))"
   ]
  },
  {
   "cell_type": "markdown",
   "metadata": {},
   "source": [
    "### Биграммы"
   ]
  },
  {
   "cell_type": "code",
   "execution_count": 7,
   "metadata": {},
   "outputs": [],
   "source": [
    "def count_bigrams(filenames):\n",
    "    bigrams_count = {}\n",
    "    for name in tqdm(filenames):\n",
    "        with open(path + name,'r', encoding='utf8') as f:\n",
    "            tokens = nltk.word_tokenize(f.read().lower(), 'russian')\n",
    "            for bigram in zip(tokens[:-1], tokens[1:]):\n",
    "                if bigram in bigrams_count.keys():\n",
    "                    bigrams_count[bigram] += 1\n",
    "                else:\n",
    "                    bigrams_count[bigram] = 1\n",
    "    return dict(sorted(bigrams_count.items(), key=lambda x: x[1], reverse=True))"
   ]
  },
  {
   "cell_type": "code",
   "execution_count": 8,
   "metadata": {},
   "outputs": [],
   "source": [
    "def count_words(filenames):\n",
    "    tokens_count = {}\n",
    "    for name in tqdm(filenames):\n",
    "        with open(path + name, 'r', encoding='utf8') as f:\n",
    "            tokens = nltk.word_tokenize(f.read().lower(), 'russian')\n",
    "            for token in tokens:\n",
    "                tokens_count[token] = tokens_count[token] + 1 if token in tokens_count.keys() else 1\n",
    "    return dict(sorted(tokens_count.items(), key=lambda x: x[1], reverse=True))"
   ]
  },
  {
   "cell_type": "code",
   "execution_count": 9,
   "metadata": {},
   "outputs": [
    {
     "name": "stderr",
     "output_type": "stream",
     "text": [
      "100%|█████████████████████████████████████████████████████████████████████████████| 2533/2533 [00:17<00:00, 144.98it/s]\n"
     ]
    }
   ],
   "source": [
    "from nltk.corpus import stopwords\n",
    "\n",
    "# считаем частоту употребления для самого болтливого автора\n",
    "author = list(author_to_text_len.items())[0][0]\n",
    "count = count_bigrams(list(posts_data[posts_data['author'] == author]['ID']))\n",
    "count = {bigram: count[bigram] for bigram in count.keys() \n",
    "         if bigram[0] not in string.punctuation + '»–\\'\\'' \n",
    "         and bigram[1] not in string.punctuation + '»–\\'\\''}"
   ]
  },
  {
   "cell_type": "code",
   "execution_count": 9,
   "metadata": {},
   "outputs": [
    {
     "data": {
      "text/plain": [
       "[(('в', 'этом'), 1117),\n",
       " (('у', 'нас'), 1006),\n",
       " (('и', 'в'), 888),\n",
       " (('так', 'что'), 877),\n",
       " (('и', 'не'), 781),\n",
       " (('потому', 'что'), 651),\n",
       " (('у', 'меня'), 626),\n",
       " (('я', 'не'), 599),\n",
       " (('не', 'было'), 563),\n",
       " (('этом', 'году'), 543),\n",
       " (('так', 'как'), 521),\n",
       " (('на', 'вершину'), 517),\n",
       " (('в', 'том'), 516),\n",
       " (('о', 'том'), 436),\n",
       " (('что', 'в'), 436),\n",
       " (('и', 'на'), 430),\n",
       " (('и', 'я'), 427),\n",
       " (('во', 'время'), 426),\n",
       " (('что', 'я'), 414),\n",
       " (('а', 'также'), 399),\n",
       " (('для', 'меня'), 389),\n",
       " (('не', 'только'), 382),\n",
       " (('это', 'не'), 380),\n",
       " (('что', 'это'), 377),\n",
       " (('и', 'мы'), 359)]"
      ]
     },
     "execution_count": 9,
     "metadata": {},
     "output_type": "execute_result"
    }
   ],
   "source": [
    "list(count.items())[:25]"
   ]
  },
  {
   "cell_type": "code",
   "execution_count": 10,
   "metadata": {},
   "outputs": [],
   "source": [
    "# пытаемся увидеть что-то содержательное путем удаления стопслов\n",
    "count_without_stopwords = {bigram: count[bigram] for bigram in count.keys() \n",
    "         if bigram[0] not in stopwords.words('russian') \n",
    "         and bigram[0] not in stopwords.words('russian')\n",
    "        }"
   ]
  },
  {
   "cell_type": "code",
   "execution_count": 11,
   "metadata": {},
   "outputs": [
    {
     "data": {
      "text/plain": [
       "[(('это', 'не'), 380),\n",
       " (('--', '--'), 312),\n",
       " (('это', 'было'), 295),\n",
       " (('вверх', 'по'), 290),\n",
       " (('вместе', 'с'), 245),\n",
       " (('выход', 'на'), 237),\n",
       " (('несмотря', 'на'), 230),\n",
       " (('прошлом', 'году'), 213),\n",
       " (('восхождение', 'на'), 208),\n",
       " (('восхождения', 'на'), 205),\n",
       " (('следующий', 'день'), 196),\n",
       " (('базовый', 'лагерь'), 189),\n",
       " (('выйти', 'на'), 183),\n",
       " (('это', 'был'), 175),\n",
       " (('сих', 'пор'), 173),\n",
       " (('никто', 'не'), 172),\n",
       " (('самом', 'деле'), 164),\n",
       " (('очень', 'много'), 149),\n",
       " (('кубка', 'мира'), 149),\n",
       " (('станция', 'на'), 145),\n",
       " (('внутреннему', 'углу'), 142),\n",
       " (('кроме', 'того'), 140),\n",
       " (('внутренний', 'угол'), 138),\n",
       " (('это', 'очень'), 137),\n",
       " (('тому', 'же'), 135)]"
      ]
     },
     "execution_count": 11,
     "metadata": {},
     "output_type": "execute_result"
    }
   ],
   "source": [
    "list(count_without_stopwords.items())[:25]"
   ]
  },
  {
   "cell_type": "markdown",
   "metadata": {},
   "source": [
    "### Dice"
   ]
  },
  {
   "cell_type": "code",
   "execution_count": 10,
   "metadata": {},
   "outputs": [],
   "source": [
    "def dice(bigrams_count, words_count):\n",
    "    bigrams_dice = {}\n",
    "    for (w1, w2) in bigrams_count.keys():\n",
    "        bigrams_dice[(w1, w2)] = 2 * bigrams_count[(w1, w2)] / (words_count[w1] + words_count[w2])\n",
    "    return dict(sorted(bigrams_dice.items(), key=lambda x : x[1], reverse=True))"
   ]
  },
  {
   "cell_type": "code",
   "execution_count": 11,
   "metadata": {},
   "outputs": [
    {
     "name": "stderr",
     "output_type": "stream",
     "text": [
      "100%|███████████████████████████████████████████████████████████████████████████| 33859/33859 [03:46<00:00, 149.75it/s]\n",
      "100%|███████████████████████████████████████████████████████████████████████████| 33859/33859 [03:38<00:00, 154.61it/s]\n"
     ]
    }
   ],
   "source": [
    "#author = list(author_to_text_len.items())[0][0]\n",
    "files = [name for name in posts_data['ID'] if name in filenames]\n",
    "bigrams = count_bigrams(files)\n",
    "words = count_words(files)\n",
    "bigrams_dice = dice(bigrams, words)"
   ]
  },
  {
   "cell_type": "code",
   "execution_count": 12,
   "metadata": {},
   "outputs": [
    {
     "data": {
      "text/plain": [
       "[(('shauna', 'coxsey'), 1.0, 52),\n",
       " (('miho', 'nonaka'), 1.0, 33),\n",
       " (('ifmga/', 'uiagm/'), 1.0, 15),\n",
       " (('кеичиро', 'коренага'), 1.0, 14),\n",
       " (('ama', 'dablam'), 1.0, 13),\n",
       " (('glairon', 'mondet'), 1.0, 12),\n",
       " (('heiko', 'wilhelm'), 1.0, 12),\n",
       " (('м.т.______________', 'e-mail____________'), 1.0, 12),\n",
       " (('нангпай', 'госум'), 1.0, 10),\n",
       " (('ариес', 'сусанти'), 1.0, 10),\n",
       " (('rote', 'fluh'), 1.0, 10),\n",
       " (('settings\\\\apk\\\\мои', 'документы\\\\'), 1.0, 10),\n",
       " (('kenzo', 'okawa'), 1.0, 10),\n",
       " (('juliane', 'wurm'), 1.0, 9),\n",
       " (('дарины', 'беляевской'), 1.0, 9),\n",
       " (('ruff', 'tuff'), 1.0, 9),\n",
       " (('юргис', 'кайрис'), 1.0, 9),\n",
       " (('density', 'intuition®'), 1.0, 9),\n",
       " (('людовико', 'фоссали'), 1.0, 8),\n",
       " (('пеньи', 'гуара'), 1.0, 8),\n",
       " (('elma', 'fleuret'), 1.0, 8),\n",
       " (('sandra', 'lettner'), 1.0, 8),\n",
       " (('pierra', 'menta'), 1.0, 7),\n",
       " (('kush', 'khashah'), 1.0, 7),\n",
       " (('aurelia', 'sarisson'), 1.0, 7),\n",
       " (('franziska', 'sterrer'), 1.0, 7),\n",
       " (('nika', 'potapova'), 1.0, 7),\n",
       " (('photohub', 'manometr'), 1.0, 7),\n",
       " (('трансгаз', 'югорск'), 1.0, 7),\n",
       " (('урска', 'репусич'), 1.0, 6),\n",
       " (('гейв', 'динг'), 1.0, 6),\n",
       " (('cerberus', 'gendarme'), 1.0, 6),\n",
       " (('gin', 'gliders'), 1.0, 6),\n",
       " (('мусы', 'джалиля'), 1.0, 5),\n",
       " (('люсиджа', 'таркуш'), 1.0, 5),\n",
       " (('рахиля', 'галяутдинова'), 1.0, 5),\n",
       " (('vinicio', 'stefanello'), 1.0, 5),\n",
       " (('organ', 'pipes'), 1.0, 5),\n",
       " (('чхиринг', 'дорже'), 1.0, 5),\n",
       " (('андони', 'эспарта'), 1.0, 5)]"
      ]
     },
     "execution_count": 12,
     "metadata": {},
     "output_type": "execute_result"
    }
   ],
   "source": [
    "sorted([(item[0], item[1], bigrams[item[0]]) for item in bigrams_dice.items() if item[1] == 1.0], key=lambda x: bigrams[x[0]], reverse=True)[:40]"
   ]
  },
  {
   "cell_type": "markdown",
   "metadata": {},
   "source": [
    "в большой список имен и фамилий затесался трансгаз югорск :)"
   ]
  },
  {
   "cell_type": "markdown",
   "metadata": {},
   "source": [
    "### Mutual information"
   ]
  },
  {
   "cell_type": "code",
   "execution_count": 17,
   "metadata": {},
   "outputs": [],
   "source": [
    "from math import log\n",
    "def mutual_information(bigrams, words):\n",
    "    mutual_info = {}\n",
    "    for (w1, w2) in bigrams.keys():\n",
    "        mutual_info[(w1, w2)] =  log(bigrams[(w1, w2)] / (words[w1] * words[w2]))\n",
    "    return dict(sorted(mutual_info.items(), key=lambda x : x[1], reverse=True))"
   ]
  },
  {
   "cell_type": "code",
   "execution_count": 18,
   "metadata": {},
   "outputs": [],
   "source": [
    "info = mutual_information(bigrams, words)"
   ]
  },
  {
   "cell_type": "code",
   "execution_count": 31,
   "metadata": {},
   "outputs": [
    {
     "data": {
      "text/plain": [
       "{('3616', '2515'): (0.0, 1),\n",
       " ('аскари', 'авиатион'): (0.0, 1),\n",
       " ('сорокаградусными', 'морозцами'): (0.0, 1),\n",
       " ('7601', '0026'): (0.0, 1),\n",
       " ('0026', '0532'): (0.0, 1),\n",
       " ('ярлыкам', 'интернациональна'): (0.0, 1),\n",
       " ('08/8', '02/8'): (0.0, 1),\n",
       " ('автопилотам', 'зуров'): (0.0, 1),\n",
       " ('гларо', 'ропаза'): (0.0, 1),\n",
       " ('противовоспалительную', 'мазь/гель'): (0.0, 1),\n",
       " ('закалённой', 'лопаткой-язычком'): (0.0, 1),\n",
       " ('2102', '1296'): (0.0, 1),\n",
       " ('бенджамин', 'гугонне'): (0.0, 1),\n",
       " ('fenris', 'kjeften'): (0.0, 1),\n",
       " ('томаше', 'мацкевиче'): (0.0, 1),\n",
       " ('ледимир', 'безносов.днике'): (0.0, 1),\n",
       " ('окно…не', 'помню…провалился'): (0.0, 1),\n",
       " ('39.454557', '72.957681'): (0.0, 1),\n",
       " ('39.459302', '72.939858'): (0.0, 1),\n",
       " ('39.459503', '72.952499'): (0.0, 1),\n",
       " ('резюмировались', 'утверждениями'): (0.0, 1),\n",
       " ('слодкевич', 'ua3ahm'): (0.0, 1),\n",
       " ('полночным', 'песнопеньям'): (0.0, 1),\n",
       " ('добродушия', 'нежадного'): (0.0, 1),\n",
       " ('благоухающему', 'рассыпчатому'): (0.0, 1),\n",
       " ('нервишки…очень', 'крутой…бдительность'): (0.0, 1),\n",
       " ('фумитаки', 'ичимуры'): (0.0, 1),\n",
       " ('ашотовиче', 'эльчибекове'): (0.0, 1),\n",
       " ('-50-х.', 'в.к.ноздрюхин'): (0.0, 1),\n",
       " ('комменрарий', 'и.логачёва.-'): (0.0, 1),\n",
       " ('27.03.2018', '02:26-'): (0.0, 1),\n",
       " ('ичиро', 'йошизава'): (0.0, 1),\n",
       " ('перенесённого', 'сальмонеллёзного'): (0.0, 1),\n",
       " ('сальмонеллёзного', 'сепсиса'): (0.0, 1),\n",
       " ('нани', 'брегвадзе'): (0.0, 1),\n",
       " ('поддежурившая', 'отоляринголог'): (0.0, 1),\n",
       " ('завотделением', 'отолярингологии'): (0.0, 1),\n",
       " ('натиралась', 'паховая'): (0.0, 1),\n",
       " ('тендеции', 'фифостроения'): (0.0, 1),\n",
       " ('антония', 'радос'): (0.0, 1),\n",
       " ('полукруглые', 'надфилечки'): (0.0, 1),\n",
       " ('илон', 'маск'): (0.0, 1),\n",
       " ('воспетом', 'бардом'): (0.0, 1),\n",
       " ('бардом', 'сретенском'): (0.0, 1),\n",
       " ('панкратьевскому', 'переулку'): (0.0, 1),\n",
       " ('послеперелётном', 'отходнике'): (0.0, 1),\n",
       " ('южноалтайского', 'бий-суу'): (0.0, 1),\n",
       " ('самостроя', 'обряжалась'): (0.0, 1),\n",
       " ('таёжную', 'чадру'): (0.0, 1),\n",
       " ('смолянистая', 'янтарно-карамельная'): (0.0, 1)}"
      ]
     },
     "execution_count": 31,
     "metadata": {},
     "output_type": "execute_result"
    }
   ],
   "source": [
    "{item: (info[item], bigrams[item]) for item in list(info.keys())[:50]}"
   ]
  },
  {
   "cell_type": "markdown",
   "metadata": {},
   "source": [
    "### t-score"
   ]
  },
  {
   "cell_type": "code",
   "execution_count": 33,
   "metadata": {},
   "outputs": [],
   "source": [
    "from math import sqrt\n",
    "\n",
    "def t_score(bigrams, words):\n",
    "    scores = {}\n",
    "    N = sum(words.values())\n",
    "    for (w1, w2) in bigrams.keys():\n",
    "        scores[' '.join([w1, w2])] = (bigrams[(w1, w2)] - words[w1] * words[w2] / N) / sqrt(bigrams[(w1, w2)]) \n",
    "    return dict(sorted(scores.items(), key=lambda x : x[1], reverse=True))"
   ]
  },
  {
   "cell_type": "code",
   "execution_count": 36,
   "metadata": {},
   "outputs": [],
   "source": [
    "bigrams = {bigram: bigrams[bigram] for bigram in bigrams.keys() \n",
    "         if bigram[0] not in string.punctuation + '»–\\'\\'' \n",
    "         and bigram[1] not in string.punctuation + '»–\\'\\''}\n",
    "t_scores = t_score(bigrams, words)"
   ]
  },
  {
   "cell_type": "code",
   "execution_count": 38,
   "metadata": {},
   "outputs": [
    {
     "data": {
      "text/plain": [
       "[('-- --', 103.81245998486062),\n",
       " ('у нас', 92.34268921002166),\n",
       " ('в этом', 89.33297993458379),\n",
       " ('у меня', 81.94626891032715),\n",
       " ('не было', 75.79556682069988),\n",
       " ('в горах', 71.00938907572811),\n",
       " ('потому что', 68.57447484148884),\n",
       " ('так как', 66.99435730970448),\n",
       " ('в том', 65.10326249130935),\n",
       " ('во время', 64.89829005565433),\n",
       " ('на вершину', 63.12118320614634),\n",
       " ('так что', 63.08508948430357),\n",
       " ('а также', 62.92390163270978),\n",
       " ('я не', 61.99050417421519),\n",
       " ('не только', 60.21108841293755),\n",
       " ('этом году', 60.1622515161887),\n",
       " ('так же', 59.422880073993234),\n",
       " ('о том', 57.349130512581254),\n",
       " ('так и', 56.314934009371974),\n",
       " ('на высоте', 56.25331100511347),\n",
       " ('один из', 55.542799608342456),\n",
       " ('в этот', 55.38200694623952),\n",
       " ('при этом', 55.35002985208007),\n",
       " ('... ...', 54.00460895691325),\n",
       " ('в общем', 53.978777569737616),\n",
       " ('да и', 53.930319344722754),\n",
       " ('и не', 53.291704264978314),\n",
       " ('может быть', 53.087145090820854),\n",
       " ('red fox', 52.88538207345741),\n",
       " ('для меня', 52.12741939480355),\n",
       " ('что это', 52.033648538759884),\n",
       " ('вместе с', 51.46370430769213),\n",
       " ('в итоге', 51.39463863491289),\n",
       " ('из них', 51.12999418694026),\n",
       " ('а потом', 50.81796337898364),\n",
       " ('на вершине', 50.67583935736909),\n",
       " ('на следующий', 50.37303285436833),\n",
       " ('следующий день', 50.014810313556865),\n",
       " ('ничего не', 49.97711661406824),\n",
       " ('с собой', 49.66472654723372),\n",
       " ('а вот', 49.45514782242881),\n",
       " ('в сторону', 49.44182793944815),\n",
       " ('это не', 48.94499904506031),\n",
       " ('что я', 48.737523486822546),\n",
       " ('в конце', 48.539737059100965),\n",
       " ('не менее', 48.144676006004005),\n",
       " ('несмотря на', 47.864854057918436),\n",
       " ('по альпинизму', 47.77346875162214),\n",
       " ('этот раз', 47.26307037549627),\n",
       " ('это было', 47.22478709929542)]"
      ]
     },
     "execution_count": 38,
     "metadata": {},
     "output_type": "execute_result"
    }
   ],
   "source": [
    "list(t_scores.items())[:50]"
   ]
  },
  {
   "cell_type": "markdown",
   "metadata": {},
   "source": [
    "Рисковчане любят горы и red fox :)"
   ]
  },
  {
   "cell_type": "code",
   "execution_count": null,
   "metadata": {},
   "outputs": [],
   "source": []
  }
 ],
 "metadata": {
  "kernelspec": {
   "display_name": "Python 3",
   "language": "python",
   "name": "python3"
  },
  "language_info": {
   "codemirror_mode": {
    "name": "ipython",
    "version": 3
   },
   "file_extension": ".py",
   "mimetype": "text/x-python",
   "name": "python",
   "nbconvert_exporter": "python",
   "pygments_lexer": "ipython3",
   "version": "3.6.5"
  }
 },
 "nbformat": 4,
 "nbformat_minor": 2
}
